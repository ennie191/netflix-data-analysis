{
 "cells": [
  {
   "cell_type": "code",
   "execution_count": 1,
   "metadata": {},
   "outputs": [
    {
     "name": "stdout",
     "output_type": "stream",
     "text": [
      "                  title          genres  imdbAverageRating\n",
      "20        Before Sunset  Drama, Romance                8.1\n",
      "32          Open Hearts  Drama, Romance                7.5\n",
      "50   Brokeback Mountain  Drama, Romance                7.7\n",
      "102            Chocolat  Drama, Romance                7.2\n",
      "120   Good Will Hunting  Drama, Romance                8.3\n"
     ]
    }
   ],
   "source": [
    "import pandas as pd\n",
    "from sklearn.feature_extraction.text import TfidfVectorizer\n",
    "from sklearn.metrics.pairwise import linear_kernel\n",
    "\n",
    "# Load data\n",
    "df = pd.read_csv(\"../data/data.csv\").head(10000)\n",
    "df.dropna(subset=[\"title\", \"genres\"], inplace=True)\n",
    "\n",
    "# Combine genres into a string for TF-IDF\n",
    "df[\"genres_str\"] = df[\"genres\"].apply(lambda x: x.replace(\", \", \" \"))\n",
    "\n",
    "# TF-IDF vectorization\n",
    "tfidf = TfidfVectorizer(stop_words=\"english\")\n",
    "tfidf_matrix = tfidf.fit_transform(df[\"genres_str\"])\n",
    "\n",
    "# Compute similarity\n",
    "cosine_sim = linear_kernel(tfidf_matrix, tfidf_matrix)\n",
    "\n",
    "# Mapping titles to index\n",
    "indices = pd.Series(df.index, index=df[\"title\"]).drop_duplicates()\n",
    "\n",
    "def recommend(title, num_recommendations=5):\n",
    "    idx = indices.get(title)\n",
    "    if idx is None:\n",
    "        return \"Title not found.\"\n",
    "    sim_scores = list(enumerate(cosine_sim[idx]))\n",
    "    sim_scores = sorted(sim_scores, key=lambda x: x[1], reverse=True)\n",
    "    sim_scores = sim_scores[1:num_recommendations + 1]\n",
    "    movie_indices = [i[0] for i in sim_scores]\n",
    "    return df[[\"title\", \"genres\", \"imdbAverageRating\"]].iloc[movie_indices]\n",
    "\n",
    "# Example usage\n",
    "print(recommend(\"Forrest Gump\"))\n"
   ]
  }
 ],
 "metadata": {
  "kernelspec": {
   "display_name": "Python 3",
   "language": "python",
   "name": "python3"
  },
  "language_info": {
   "codemirror_mode": {
    "name": "ipython",
    "version": 3
   },
   "file_extension": ".py",
   "mimetype": "text/x-python",
   "name": "python",
   "nbconvert_exporter": "python",
   "pygments_lexer": "ipython3",
   "version": "3.10.13"
  }
 },
 "nbformat": 4,
 "nbformat_minor": 2
}
